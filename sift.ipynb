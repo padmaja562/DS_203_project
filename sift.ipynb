{
 "cells": [
  {
   "cell_type": "code",
   "execution_count": 1,
   "metadata": {},
   "outputs": [
    {
     "ename": "NameError",
     "evalue": "name 'X_lbp' is not defined",
     "output_type": "error",
     "traceback": [
      "\u001b[1;31m---------------------------------------------------------------------------\u001b[0m",
      "\u001b[1;31mNameError\u001b[0m                                 Traceback (most recent call last)",
      "Cell \u001b[1;32mIn[1], line 42\u001b[0m\n\u001b[0;32m     39\u001b[0m labels \u001b[38;5;241m=\u001b[39m kmeans\u001b[38;5;241m.\u001b[39mlabels_\n\u001b[0;32m     41\u001b[0m \u001b[38;5;66;03m# Evaluate clustering\u001b[39;00m\n\u001b[1;32m---> 42\u001b[0m silhouette_avg_lbp \u001b[38;5;241m=\u001b[39m silhouette_score(\u001b[43mX_lbp\u001b[49m, labels)\n\u001b[0;32m     43\u001b[0m inertia_lbp \u001b[38;5;241m=\u001b[39m kmeans\u001b[38;5;241m.\u001b[39minertia_\n\u001b[0;32m     44\u001b[0m \u001b[38;5;28mprint\u001b[39m(\u001b[38;5;124m\"\u001b[39m\u001b[38;5;124mSilhouette Score (LBP):\u001b[39m\u001b[38;5;124m\"\u001b[39m, silhouette_avg_lbp)\n",
      "\u001b[1;31mNameError\u001b[0m: name 'X_lbp' is not defined"
     ]
    }
   ],
   "source": [
    "import os\n",
    "import cv2\n",
    "import numpy as np\n",
    "from sklearn.cluster import KMeans\n",
    "from sklearn.metrics import silhouette_score\n",
    "import random\n",
    "\n",
    "# Path to the folder containing your images\n",
    "folder_path = \"E7-images\"\n",
    "\n",
    "# Initialize a list to store the loaded images\n",
    "images = []\n",
    "\n",
    "# Iterate over all files in the folder\n",
    "for filename in os.listdir(folder_path):\n",
    "    # Check if the file is an image (JPEG or PNG)\n",
    "    if filename.endswith(\".jpg\") or filename.endswith(\".jpeg\") or filename.endswith(\".png\"):\n",
    "        # Construct the full path to the image file\n",
    "        img_path = os.path.join(folder_path, filename)\n",
    "        \n",
    "        # Read the image\n",
    "        image = cv2.imread(img_path)\n",
    "        \n",
    "        # Append the image to the list\n",
    "        images.append(image)\n",
    "\n",
    "# Extract SIFT features\n",
    "sift = cv2.SIFT_create()\n",
    "sift_features = []\n",
    "for image in images:\n",
    "    gray = cv2.cvtColor(image, cv2.COLOR_BGR2GRAY)\n",
    "    keypoints, descriptors = sift.detectAndCompute(gray, None)\n",
    "    sift_features.append(descriptors)\n",
    "X_sift = np.vstack(sift_features)\n",
    "\n",
    "# Perform KMeans clustering\n",
    "kmeans = KMeans(n_clusters=5, random_state=42)\n",
    "kmeans.fit(X_sift)\n",
    "labels = kmeans.labels_\n",
    "\n",
    "# Evaluate clustering\n",
    "silhouette_avg_lbp = silhouette_score(X_lbp, labels)\n",
    "inertia_lbp = kmeans.inertia_\n",
    "print(\"Silhouette Score (LBP):\", silhouette_avg_lbp)\n",
    "print(\"Inertia (LBP):\", inertia_lbp)\n",
    "\n",
    "# Group samples by cluster\n",
    "cluster_samples_sift = [[] for _ in range(5)]\n",
    "for idx, label in enumerate(labels):\n",
    "    cluster_samples_sift[label].append(images[idx])\n",
    "\n",
    "# Print 5 randomly picked samples from each cluster\n",
    "for cluster_idx, samples in enumerate(cluster_samples_sift):\n",
    "    print(\"Cluster\", cluster_idx + 1)\n",
    "    random_samples = random.sample(samples, min(5, len(samples)))\n",
    "    for i, sample in enumerate(random_samples):\n",
    "        cv2.imshow(f\"Cluster {cluster_idx + 1} Sample {i + 1}\", sample)\n",
    "    cv2.waitKey(0)\n",
    "    cv2.destroyAllWindows()\n"
   ]
  }
 ],
 "metadata": {
  "kernelspec": {
   "display_name": ".venv",
   "language": "python",
   "name": "python3"
  },
  "language_info": {
   "codemirror_mode": {
    "name": "ipython",
    "version": 3
   },
   "file_extension": ".py",
   "mimetype": "text/x-python",
   "name": "python",
   "nbconvert_exporter": "python",
   "pygments_lexer": "ipython3",
   "version": "3.11.8"
  }
 },
 "nbformat": 4,
 "nbformat_minor": 2
}
